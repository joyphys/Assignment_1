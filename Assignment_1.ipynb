{
 "cells": [
  {
   "cell_type": "code",
   "execution_count": null,
   "id": "5fde3a55",
   "metadata": {},
   "outputs": [],
   "source": [
    "1. In the below elements which of them are values or an expression? eg:- values can be integer or string and expressions \n",
    "    will be mathematical operators.\n",
    "* \n",
    "'hello'\n",
    "-87.8\n",
    "- \n",
    "/ \n",
    "+\t\n",
    "6 \n",
    "\n",
    "  * is an expression\n",
    " 'hello' is a value.\n",
    "  -87.8 is an expression.\n",
    "  - is an expression.\n",
    "     / is an expression.\n",
    "        + is an expression.\n",
    "        6 is a value\n",
    "        \n",
    "    \n",
    "\n",
    "3. Describe three different data types.\n",
    "\n",
    "Numeric : Numeric data type stores numeric values, like intergers, floats and complex numbers.\n",
    "    sequence: Sequence is an ordered collection of objects with similar or dissimilar data tuypes.\n",
    "        \n",
    "    It can be a list, a tuple or a string.\n",
    "    \n",
    "    Boolean: It can assume only two built-in values, True or False.\n",
    "        \n",
    "4. What is an expression made up of? What do all expressions do?\n",
    "\n",
    "Operators are special symbols in Python that carry out arithmetic or logical computation. The vlaues on which they operqate are called operands.\n",
    "Expressions are made up of operators and operands. An expression is a sequence of operators and operands. \n",
    "An expression produces another value out of the operations.\n",
    "\n",
    "\n",
    "6. After running the following code, what does the variable bacon contain?\n",
    "bacon = 22\n",
    "bacon + 1\n",
    "\n",
    "23\n",
    "\n",
    "7. What should the values of the following two terms be?\n",
    "'spam' + 'spamspam'\n",
    "'spam' * 3\n",
    "\n",
    "'spamspamspam'\n",
    "\n",
    "8. Why is eggs a valid variable name while 100 is invalid?\n",
    "\n",
    "A variable name must start with a letter or the underscore character. \n",
    "A variable name cannot start with a number. \n",
    "100 starts with a number not a character, so it is ionvalid as a variable name.\n",
    "\n",
    "9. What three functions can be used to get the integer, floating-point number, or string version of a value?\n",
    "\n",
    "a=\"85\"\n",
    "int(a)   to get the integer version.\n",
    "float(a)   to get the floating-point number out of the value.\n",
    "\n",
    "a=85\n",
    "str(a)   to get the string version of the value.\n",
    "\n",
    "10. Why does this expression cause an error? How can you fix it?\n",
    "'I have eaten ' + 99 + ' burritos.'\n",
    "\n",
    "We can't concatenate integers with strings. Here 99 is an integer where the other two parts are strings.\n",
    "\n",
    "The solution is to convert 99 to string and then concatenate. The final statement should be:\n",
    "'I have eaten ' + str(99) + ' burritos.'\n"
   ]
  },
  {
   "cell_type": "code",
   "execution_count": null,
   "id": "815ca5d0",
   "metadata": {},
   "outputs": [],
   "source": [
    "    \n",
    "#2. What is the difference between string and variable?\n",
    "\n",
    "A variable is a  reserved memory location to store values. It can store integers,strings or floats.\n",
    "\n",
    "A string is a value that can be stored inside a variable.\n"
   ]
  },
  {
   "cell_type": "code",
   "execution_count": null,
   "id": "6b4a5bdc",
   "metadata": {},
   "outputs": [],
   "source": [
    "\n",
    "\n",
    "#3. Describe three different data types.\n",
    "\n",
    "    Numeric : Numeric data type stores numeric values, like intergers, floats and complex numbers.\n",
    "    \n",
    "    Sequence: Sequence is an ordered collection of objects with similar or dissimilar data types.\n",
    "              It can be a list, a tuple or a string.\n",
    "    \n",
    "    Boolean: It can assume only two built-in values, True or False."
   ]
  },
  {
   "cell_type": "code",
   "execution_count": null,
   "id": "a346cc1c",
   "metadata": {},
   "outputs": [],
   "source": [
    "       \n",
    "#4. What is an expression made up of? What do all expressions do?\n",
    "\n",
    "Operators are special symbols in Python that carry out arithmetic or logical computation. \n",
    "The values on which they operqate are called operands.\n",
    "\n",
    "Expressions are made up of operators and operands. An expression is a sequence of operators and operands. \n",
    "An expression produces another value out of the operations."
   ]
  },
  {
   "cell_type": "code",
   "execution_count": null,
   "id": "0eaae5ed",
   "metadata": {},
   "outputs": [],
   "source": [
    "#5. This assignment statements, like spam = 10. What is the difference between an expression and a statement?\n",
    "\n",
    "\n",
    "An expression produces new value out of operations on other value or values. \n",
    "\n",
    "Statements are instructions that a Python interpreter can execute. They may or may not return anything. \n",
    "\n",
    "An expression is not always a statement.A statement is always an expression.\n"
   ]
  },
  {
   "cell_type": "code",
   "execution_count": null,
   "id": "7e2ffc56",
   "metadata": {},
   "outputs": [],
   "source": [
    "\n",
    "#6. After running the following code, what does the variable bacon contain?\n",
    "#bacon = 22\n",
    "#bacon + 1\n",
    "\n",
    "23"
   ]
  },
  {
   "cell_type": "code",
   "execution_count": null,
   "id": "c96aa067",
   "metadata": {},
   "outputs": [],
   "source": [
    "#7. What should the values of the following two terms be?\n",
    "#'spam' + 'spamspam'\n",
    "#'spam' * 3\n",
    "\n",
    "'spamspamspam'"
   ]
  },
  {
   "cell_type": "code",
   "execution_count": null,
   "id": "34769938",
   "metadata": {},
   "outputs": [],
   "source": [
    "\n",
    "#8. Why is eggs a valid variable name while 100 is invalid?\n",
    "\n",
    "A variable name must start with a letter or the underscore character. \n",
    "A variable name cannot start with a number. \n",
    "100 starts with a number not a character, so it is invalid as a variable name.\n"
   ]
  },
  {
   "cell_type": "code",
   "execution_count": null,
   "id": "3820cf1b",
   "metadata": {},
   "outputs": [],
   "source": [
    "\n",
    "#9. What three functions can be used to get the integer, floating-point number, or string version of a value?\n",
    "\n",
    "a=\"85\"\n",
    "int(a)   to get the integer version.\n",
    "float(a)   to get the floating-point number out of the value.\n",
    "\n",
    "a=85\n",
    "str(a)   to get the string version of the value"
   ]
  },
  {
   "cell_type": "code",
   "execution_count": null,
   "id": "95be225f",
   "metadata": {},
   "outputs": [],
   "source": [
    "\n",
    "#10. Why does this expression cause an error? How can you fix it?\n",
    "#'I have eaten ' + 99 + ' burritos.'\n",
    "\n",
    "We can not concatenate integers with strings. Here 99 is an integer where the other two parts are strings.\n",
    "\n",
    "The solution is to convert 99 to string and then concatenate. The final statement should be:\n",
    "'I have eaten ' + str(99) + ' burritos.'\n"
   ]
  }
 ],
 "metadata": {
  "kernelspec": {
   "display_name": "Python 3 (ipykernel)",
   "language": "python",
   "name": "python3"
  },
  "language_info": {
   "codemirror_mode": {
    "name": "ipython",
    "version": 3
   },
   "file_extension": ".py",
   "mimetype": "text/x-python",
   "name": "python",
   "nbconvert_exporter": "python",
   "pygments_lexer": "ipython3",
   "version": "3.9.7"
  }
 },
 "nbformat": 4,
 "nbformat_minor": 5
}
